{
 "cells": [
  {
   "cell_type": "code",
   "execution_count": 1,
   "id": "d0f9b349",
   "metadata": {},
   "outputs": [],
   "source": [
    "import pandas as pd"
   ]
  },
  {
   "cell_type": "code",
   "execution_count": 2,
   "id": "4b544125",
   "metadata": {},
   "outputs": [],
   "source": [
    "import requests"
   ]
  },
  {
   "cell_type": "code",
   "execution_count": 3,
   "id": "4c0415a0",
   "metadata": {},
   "outputs": [],
   "source": [
    "from bs4 import BeautifulSoup"
   ]
  },
  {
   "cell_type": "code",
   "execution_count": 4,
   "id": "54b42967",
   "metadata": {},
   "outputs": [],
   "source": [
    "#requests.get('https://www.flipkart.com/search?q=mobile+phone+under+30000&sid=tyy%2C4io&as=on&as-show=on&otracker=AS_QueryStore_OrganicAutoSuggest_1_23_na_na_na&otracker1=AS_QueryStore_OrganicAutoSuggest_1_23_na_na_na&as-pos=1&as-type=RECENT&suggestionId=mobile+phone+under+30000%7CMobiles&requestId=e0dae009-1a46-4883-a121-481af0d589fd&as-backfill=on&page=1').text"
   ]
  },
  {
   "cell_type": "code",
   "execution_count": 5,
   "id": "6473c830",
   "metadata": {},
   "outputs": [],
   "source": [
    "# we are fetching the web page view source \n",
    "headers={'User-Agent':'Mozilla/5.0 (Windows NT 6.3; Win 64 ; x64) Apple WeKit /537.36(KHTML , like Gecko) Chrome/80.0.3987.162 Safari/537.36'}\n",
    "webview = requests.get('https://www.flipkart.com/search?q=mobile+phone+under+30000&sid=tyy%2C4io&as=on&as-show=on&otracker=AS_QueryStore_OrganicAutoSuggest_1_23_na_na_na&otracker1=AS_QueryStore_OrganicAutoSuggest_1_23_na_na_na&as-pos=1&as-type=RECENT&suggestionId=mobile+phone+under+30000%7CMobiles&requestId=e0dae009-1a46-4883-a121-481af0d589fd&as-backfill=on&page=1'\n",
    "                       , headers = headers).text"
   ]
  },
  {
   "cell_type": "code",
   "execution_count": 6,
   "id": "51885a80",
   "metadata": {},
   "outputs": [],
   "source": [
    "#print(webview)"
   ]
  },
  {
   "cell_type": "code",
   "execution_count": 7,
   "id": "07bea810",
   "metadata": {},
   "outputs": [],
   "source": [
    "import lxml\n",
    "soup = BeautifulSoup(webview,\"html.parser\")"
   ]
  },
  {
   "cell_type": "code",
   "execution_count": 8,
   "id": "80ba8957",
   "metadata": {},
   "outputs": [],
   "source": [
    "# print(soup.prettify())"
   ]
  },
  {
   "cell_type": "code",
   "execution_count": 9,
   "id": "7109955c",
   "metadata": {},
   "outputs": [
    {
     "data": {
      "text/plain": [
       "[<div class=\"_4rR01T\">OPPO F19 Pro+ 5G (Fluid Black, 128 GB)</div>,\n",
       " <div class=\"_4rR01T\">Nothing Phone (1) (Black, 256 GB)</div>,\n",
       " <div class=\"_4rR01T\">Google Pixel 6a (Chalk, 128 GB)</div>,\n",
       " <div class=\"_4rR01T\">REDMI Note 12 Pro+ 5G (Arctic White, 256 GB)</div>,\n",
       " <div class=\"_4rR01T\">POCO F4 5G (Night Black, 128 GB)</div>,\n",
       " <div class=\"_4rR01T\">Google Pixel 6a (Charcoal, 128 GB)</div>,\n",
       " <div class=\"_4rR01T\">POCO F4 5G (Night Black, 256 GB)</div>,\n",
       " <div class=\"_4rR01T\">Nothing Phone (1) (Black, 128 GB)</div>,\n",
       " <div class=\"_4rR01T\">REDMI Note 12 Pro 5G (Onyx Black, 256 GB)</div>,\n",
       " <div class=\"_4rR01T\">realme 9 Pro+ 5G (Midnight Black, 256 GB)</div>,\n",
       " <div class=\"_4rR01T\">realme 9 Pro+ 5G (Aurora Green, 256 GB)</div>,\n",
       " <div class=\"_4rR01T\">REDMI K50i (Quick Silver, 128 GB)</div>,\n",
       " <div class=\"_4rR01T\">REDMI K50i 5G (Stealth Black, 128 GB)</div>,\n",
       " <div class=\"_4rR01T\">realme 9 Pro+ 5G (Sunrise Blue, 256 GB)</div>,\n",
       " <div class=\"_4rR01T\">OPPO Reno8 5G (Shimmer Black, 128 GB)</div>,\n",
       " <div class=\"_4rR01T\">OPPO Reno8 5G (Shimmer Gold, 128 GB)</div>,\n",
       " <div class=\"_4rR01T\">realme 10 Pro+ 5G (Hyperspace, 128 GB)</div>,\n",
       " <div class=\"_4rR01T\">REDMI Note 12 Pro 5G (Onyx Black, 128 GB)</div>,\n",
       " <div class=\"_4rR01T\">REDMI Note 12 Pro 5G (Stardust Purple, 128 GB)</div>,\n",
       " <div class=\"_4rR01T\">REDMI Note 12 Pro 5G (Stardust Purple, 256 GB)</div>,\n",
       " <div class=\"_4rR01T\">Xiaomi 11i Hypercharge 5G (Purple Mist, 128 GB)</div>,\n",
       " <div class=\"_4rR01T\">realme 10 Pro+ 5G (Nebula Blue, 128 GB)</div>,\n",
       " <div class=\"_4rR01T\">OPPO Reno7 5G (Startrails Blue, 256 GB)</div>,\n",
       " <div class=\"_4rR01T\">SAMSUNG Galaxy A33 (Awesome Black, 128 GB)</div>]"
      ]
     },
     "execution_count": 9,
     "metadata": {},
     "output_type": "execute_result"
    }
   ],
   "source": [
    "soup.find_all('div',class_='_4rR01T')"
   ]
  },
  {
   "cell_type": "code",
   "execution_count": 10,
   "id": "1a339e89",
   "metadata": {},
   "outputs": [
    {
     "data": {
      "text/plain": [
       "24"
      ]
     },
     "execution_count": 10,
     "metadata": {},
     "output_type": "execute_result"
    }
   ],
   "source": [
    "len(soup.find_all('div',class_='_4rR01T'))"
   ]
  },
  {
   "cell_type": "code",
   "execution_count": 11,
   "id": "27d3464c",
   "metadata": {},
   "outputs": [
    {
     "name": "stdout",
     "output_type": "stream",
     "text": [
      "OPPO F19 Pro+ 5G (Fluid Black, 128 GB)\n",
      "Nothing Phone (1) (Black, 256 GB)\n",
      "Google Pixel 6a (Chalk, 128 GB)\n",
      "REDMI Note 12 Pro+ 5G (Arctic White, 256 GB)\n",
      "POCO F4 5G (Night Black, 128 GB)\n",
      "Google Pixel 6a (Charcoal, 128 GB)\n",
      "POCO F4 5G (Night Black, 256 GB)\n",
      "Nothing Phone (1) (Black, 128 GB)\n",
      "REDMI Note 12 Pro 5G (Onyx Black, 256 GB)\n",
      "realme 9 Pro+ 5G (Midnight Black, 256 GB)\n",
      "realme 9 Pro+ 5G (Aurora Green, 256 GB)\n",
      "REDMI K50i (Quick Silver, 128 GB)\n",
      "REDMI K50i 5G (Stealth Black, 128 GB)\n",
      "realme 9 Pro+ 5G (Sunrise Blue, 256 GB)\n",
      "OPPO Reno8 5G (Shimmer Black, 128 GB)\n",
      "OPPO Reno8 5G (Shimmer Gold, 128 GB)\n",
      "realme 10 Pro+ 5G (Hyperspace, 128 GB)\n",
      "REDMI Note 12 Pro 5G (Onyx Black, 128 GB)\n",
      "REDMI Note 12 Pro 5G (Stardust Purple, 128 GB)\n",
      "REDMI Note 12 Pro 5G (Stardust Purple, 256 GB)\n",
      "Xiaomi 11i Hypercharge 5G (Purple Mist, 128 GB)\n",
      "realme 10 Pro+ 5G (Nebula Blue, 128 GB)\n",
      "OPPO Reno7 5G (Startrails Blue, 256 GB)\n",
      "SAMSUNG Galaxy A33 (Awesome Black, 128 GB)\n"
     ]
    }
   ],
   "source": [
    "for i in soup.find_all('div',class_='_4rR01T'):\n",
    "    print(i.text.strip())"
   ]
  },
  {
   "cell_type": "code",
   "execution_count": 12,
   "id": "038858c3",
   "metadata": {},
   "outputs": [
    {
     "name": "stdout",
     "output_type": "stream",
     "text": [
      "₹19,990\n",
      "₹27,499\n",
      "₹29,999\n",
      "₹29,999\n",
      "₹25,999\n",
      "₹29,999\n",
      "₹29,999\n",
      "₹25,999\n",
      "₹27,999\n",
      "₹25,499\n",
      "₹25,499\n",
      "₹24,998\n",
      "₹25,399\n",
      "₹25,499\n",
      "₹29,999\n",
      "₹29,999\n",
      "₹25,999\n",
      "₹26,999\n",
      "₹26,999\n",
      "₹27,999\n",
      "₹28,999\n",
      "₹25,999\n",
      "₹28,999\n",
      "₹25,999\n"
     ]
    }
   ],
   "source": [
    "for i in soup.find_all('div',class_='_30jeq3 _1_WHN1'):\n",
    "    print(i.text.strip())"
   ]
  },
  {
   "cell_type": "code",
   "execution_count": 13,
   "id": "ae708e6e",
   "metadata": {},
   "outputs": [
    {
     "name": "stdout",
     "output_type": "stream",
     "text": [
      "4.3\n",
      "4.3\n",
      "4.3\n",
      "4.3\n",
      "4.3\n",
      "4.4\n",
      "4.3\n",
      "4.4\n",
      "4.4\n",
      "4.2\n",
      "4.2\n",
      "4.4\n",
      "4.3\n",
      "4.3\n",
      "4.5\n",
      "4.2\n",
      "4.5\n",
      "4.2\n",
      "4.1\n",
      "4.2\n",
      "5\n",
      "4\n",
      "4.2\n",
      "4\n",
      "1\n",
      "4.4\n",
      "5\n",
      "4\n",
      "4.3\n",
      "5\n",
      "2\n",
      "4.5\n",
      "5\n",
      "5\n"
     ]
    }
   ],
   "source": [
    "for i in soup.find_all('div',class_='_3LWZlK'):\n",
    "    print(i.text.strip())"
   ]
  },
  {
   "cell_type": "code",
   "execution_count": 14,
   "id": "303ebfff",
   "metadata": {},
   "outputs": [],
   "source": [
    "# for i in soup.find_all('li',class_='rgWa7D',limit=6):\n",
    "   # print(i.text.strip()) "
   ]
  },
  {
   "cell_type": "code",
   "execution_count": 15,
   "id": "6a34b8fc",
   "metadata": {},
   "outputs": [
    {
     "name": "stdout",
     "output_type": "stream",
     "text": [
      "24,287 Ratings & 2,518 Reviews\n",
      "39,201 Ratings & 5,306 Reviews\n",
      "22,516 Ratings & 2,917 Reviews\n",
      "4,248 Ratings & 586 Reviews\n",
      "22,516 Ratings & 2,917 Reviews\n",
      "2,469 Ratings & 358 Reviews\n",
      "39,201 Ratings & 5,306 Reviews\n",
      "27,012 Ratings & 3,068 Reviews\n",
      "27,012 Ratings & 3,068 Reviews\n",
      "310 Ratings & 26 Reviews\n",
      "874 Ratings & 126 Reviews\n",
      "27,012 Ratings & 3,068 Reviews\n",
      "32,029 Ratings & 4,184 Reviews\n",
      "32,029 Ratings & 4,184 Reviews\n",
      "2,335 Ratings & 359 Reviews\n",
      "6,430 Ratings & 720 Reviews\n",
      "2,335 Ratings & 359 Reviews\n",
      "16,442 Ratings & 2,134 Reviews\n",
      "1,523 Ratings & 161 Reviews\n"
     ]
    }
   ],
   "source": [
    "for i in soup.find_all('span',class_='_2_R_DZ'):\n",
    "    print(i.text.strip()) "
   ]
  },
  {
   "cell_type": "code",
   "execution_count": 16,
   "id": "c5e445b8",
   "metadata": {},
   "outputs": [],
   "source": [
    "name=[]\n",
    "for i in soup.find_all('div',class_='_4rR01T'):\n",
    "    name.append(i.text.strip())"
   ]
  },
  {
   "cell_type": "code",
   "execution_count": 17,
   "id": "fe02c3cd",
   "metadata": {},
   "outputs": [],
   "source": [
    "#name\n",
    "import numpy as np\n",
    "phone_name=[]\n",
    "price=[]\n",
    "rating=[]\n",
    "review=[]\n",
    "spec = []\n"
   ]
  },
  {
   "cell_type": "code",
   "execution_count": 18,
   "id": "d730bcf0",
   "metadata": {},
   "outputs": [],
   "source": [
    "final=pd.DataFrame()"
   ]
  },
  {
   "cell_type": "code",
   "execution_count": 19,
   "id": "8a72fb99",
   "metadata": {},
   "outputs": [
    {
     "name": "stderr",
     "output_type": "stream",
     "text": [
      "C:\\Users\\Sudhanshu\\AppData\\Local\\Temp\\ipykernel_21212\\432629234.py:33: FutureWarning: The frame.append method is deprecated and will be removed from pandas in a future version. Use pandas.concat instead.\n",
      "  final=final.append(df,ignore_index=True)\n"
     ]
    }
   ],
   "source": [
    "for j in range(1,51):\n",
    "    headers={'User-Agent':'Mozilla/5.0 (Windows NT 6.3; Win 64 ; x64) Apple WeKit /537.36(KHTML , like Gecko) Chrome/80.0.3987.162 Safari/537.36'}\n",
    "    webview = requests.get(f'https://www.flipkart.com/search?q=mobile+phone&otracker=search&otracker1=search&marketplace=FLIPKART&as-show=on&as=off&page={j}', headers = headers).text\n",
    "    soup = BeautifulSoup(webview,\"html.parser\")\n",
    "    phone = soup.find_all('div',class_='_2kHMtA')\n",
    "    for i in phone:\n",
    "        try:\n",
    "            phone_name.append(i.find('div',class_='_4rR01T').text.strip())\n",
    "        except:\n",
    "            phone_name.append(np.nan)\n",
    "        try:\n",
    "            price.append(i.find('div',class_='_30jeq3 _1_WHN1').text.strip())\n",
    "        except:\n",
    "            phone_name.append(np.nan)\n",
    "        try:\n",
    "            rating.append(i.find('div',class_='_3LWZlK').text.strip())\n",
    "        except:\n",
    "            rating.append(np.nan)\n",
    "        try:\n",
    "            review.append(i.find('span',class_='_2_R_DZ').text.strip())\n",
    "        except:\n",
    "            review.append(np.nan)\n",
    "        try:\n",
    "            spec.append(i.find('li',class_='rgWa7D').text.strip())\n",
    "        except:\n",
    "            spec.append(np.nan)\n",
    "    df=pd.DataFrame({'Model':phone_name,\n",
    "                'Mrp':price,\n",
    "                'Rating':rating,\n",
    "                'Review':review,\n",
    "                'Specs':spec\n",
    "                    })\n",
    "    final=final.append(df,ignore_index=True)"
   ]
  },
  {
   "cell_type": "code",
   "execution_count": 20,
   "id": "78b2263c",
   "metadata": {},
   "outputs": [],
   "source": [
    "# for i in soup.find_all('div',class_='_4rR01T'):\n",
    "#     phone_name.append(i.text.strip())"
   ]
  },
  {
   "cell_type": "code",
   "execution_count": 21,
   "id": "f4b062b2",
   "metadata": {},
   "outputs": [],
   "source": [
    "# df = pd.DataFrame({'phone_name':phone_name})"
   ]
  },
  {
   "cell_type": "code",
   "execution_count": 22,
   "id": "9192b43c",
   "metadata": {},
   "outputs": [],
   "source": [
    "#phone_name\n",
    "#price\n",
    "#  rating"
   ]
  },
  {
   "cell_type": "code",
   "execution_count": 23,
   "id": "210e5001",
   "metadata": {},
   "outputs": [
    {
     "data": {
      "text/plain": [
       "(28704, 5)"
      ]
     },
     "execution_count": 23,
     "metadata": {},
     "output_type": "execute_result"
    }
   ],
   "source": [
    "final.shape"
   ]
  },
  {
   "cell_type": "code",
   "execution_count": 24,
   "id": "ba2034ac",
   "metadata": {},
   "outputs": [
    {
     "data": {
      "text/plain": [
       "143520"
      ]
     },
     "execution_count": 24,
     "metadata": {},
     "output_type": "execute_result"
    }
   ],
   "source": [
    "final.size"
   ]
  },
  {
   "cell_type": "code",
   "execution_count": 25,
   "id": "0b4b2420",
   "metadata": {},
   "outputs": [
    {
     "data": {
      "text/plain": [
       "0         4 GB RAM | 64 GB ROM | Expandable Upto 256 GB\n",
       "1           4 GB RAM | 64 GB ROM | Expandable Upto 1 TB\n",
       "2           4 GB RAM | 64 GB ROM | Expandable Upto 1 TB\n",
       "3         4 GB RAM | 64 GB ROM | Expandable Upto 512 GB\n",
       "4                                  4 GB RAM | 64 GB ROM\n",
       "                              ...                      \n",
       "28699                              3 GB RAM | 32 GB ROM\n",
       "28700    6 GB RAM | 128 GB ROM | Expandable Upto 256 GB\n",
       "28701                             32 MB RAM | 32 MB ROM\n",
       "28702                             32 MB RAM | 32 MB ROM\n",
       "28703      6 GB RAM | 128 GB ROM | Expandable Upto 1 TB\n",
       "Name: Specs, Length: 28704, dtype: object"
      ]
     },
     "execution_count": 25,
     "metadata": {},
     "output_type": "execute_result"
    }
   ],
   "source": [
    "final['Specs']"
   ]
  },
  {
   "cell_type": "code",
   "execution_count": 26,
   "id": "3c3de167",
   "metadata": {},
   "outputs": [
    {
     "data": {
      "text/html": [
       "<div>\n",
       "<style scoped>\n",
       "    .dataframe tbody tr th:only-of-type {\n",
       "        vertical-align: middle;\n",
       "    }\n",
       "\n",
       "    .dataframe tbody tr th {\n",
       "        vertical-align: top;\n",
       "    }\n",
       "\n",
       "    .dataframe thead th {\n",
       "        text-align: right;\n",
       "    }\n",
       "</style>\n",
       "<table border=\"1\" class=\"dataframe\">\n",
       "  <thead>\n",
       "    <tr style=\"text-align: right;\">\n",
       "      <th></th>\n",
       "      <th>Model</th>\n",
       "      <th>Mrp</th>\n",
       "      <th>Rating</th>\n",
       "      <th>Review</th>\n",
       "      <th>Specs</th>\n",
       "    </tr>\n",
       "  </thead>\n",
       "  <tbody>\n",
       "    <tr>\n",
       "      <th>0</th>\n",
       "      <td>False</td>\n",
       "      <td>False</td>\n",
       "      <td>False</td>\n",
       "      <td>False</td>\n",
       "      <td>False</td>\n",
       "    </tr>\n",
       "    <tr>\n",
       "      <th>1</th>\n",
       "      <td>False</td>\n",
       "      <td>False</td>\n",
       "      <td>False</td>\n",
       "      <td>False</td>\n",
       "      <td>False</td>\n",
       "    </tr>\n",
       "    <tr>\n",
       "      <th>2</th>\n",
       "      <td>False</td>\n",
       "      <td>False</td>\n",
       "      <td>False</td>\n",
       "      <td>False</td>\n",
       "      <td>False</td>\n",
       "    </tr>\n",
       "    <tr>\n",
       "      <th>3</th>\n",
       "      <td>False</td>\n",
       "      <td>False</td>\n",
       "      <td>False</td>\n",
       "      <td>False</td>\n",
       "      <td>False</td>\n",
       "    </tr>\n",
       "    <tr>\n",
       "      <th>4</th>\n",
       "      <td>False</td>\n",
       "      <td>False</td>\n",
       "      <td>False</td>\n",
       "      <td>False</td>\n",
       "      <td>False</td>\n",
       "    </tr>\n",
       "    <tr>\n",
       "      <th>...</th>\n",
       "      <td>...</td>\n",
       "      <td>...</td>\n",
       "      <td>...</td>\n",
       "      <td>...</td>\n",
       "      <td>...</td>\n",
       "    </tr>\n",
       "    <tr>\n",
       "      <th>28699</th>\n",
       "      <td>False</td>\n",
       "      <td>False</td>\n",
       "      <td>False</td>\n",
       "      <td>False</td>\n",
       "      <td>False</td>\n",
       "    </tr>\n",
       "    <tr>\n",
       "      <th>28700</th>\n",
       "      <td>False</td>\n",
       "      <td>False</td>\n",
       "      <td>False</td>\n",
       "      <td>False</td>\n",
       "      <td>False</td>\n",
       "    </tr>\n",
       "    <tr>\n",
       "      <th>28701</th>\n",
       "      <td>False</td>\n",
       "      <td>False</td>\n",
       "      <td>False</td>\n",
       "      <td>False</td>\n",
       "      <td>False</td>\n",
       "    </tr>\n",
       "    <tr>\n",
       "      <th>28702</th>\n",
       "      <td>False</td>\n",
       "      <td>False</td>\n",
       "      <td>False</td>\n",
       "      <td>False</td>\n",
       "      <td>False</td>\n",
       "    </tr>\n",
       "    <tr>\n",
       "      <th>28703</th>\n",
       "      <td>False</td>\n",
       "      <td>False</td>\n",
       "      <td>False</td>\n",
       "      <td>False</td>\n",
       "      <td>False</td>\n",
       "    </tr>\n",
       "  </tbody>\n",
       "</table>\n",
       "<p>28704 rows × 5 columns</p>\n",
       "</div>"
      ],
      "text/plain": [
       "       Model    Mrp  Rating  Review  Specs\n",
       "0      False  False   False   False  False\n",
       "1      False  False   False   False  False\n",
       "2      False  False   False   False  False\n",
       "3      False  False   False   False  False\n",
       "4      False  False   False   False  False\n",
       "...      ...    ...     ...     ...    ...\n",
       "28699  False  False   False   False  False\n",
       "28700  False  False   False   False  False\n",
       "28701  False  False   False   False  False\n",
       "28702  False  False   False   False  False\n",
       "28703  False  False   False   False  False\n",
       "\n",
       "[28704 rows x 5 columns]"
      ]
     },
     "execution_count": 26,
     "metadata": {},
     "output_type": "execute_result"
    }
   ],
   "source": [
    "final.isnull()"
   ]
  },
  {
   "cell_type": "code",
   "execution_count": 27,
   "id": "1fc76273",
   "metadata": {},
   "outputs": [
    {
     "data": {
      "text/html": [
       "<div>\n",
       "<style scoped>\n",
       "    .dataframe tbody tr th:only-of-type {\n",
       "        vertical-align: middle;\n",
       "    }\n",
       "\n",
       "    .dataframe tbody tr th {\n",
       "        vertical-align: top;\n",
       "    }\n",
       "\n",
       "    .dataframe thead th {\n",
       "        text-align: right;\n",
       "    }\n",
       "</style>\n",
       "<table border=\"1\" class=\"dataframe\">\n",
       "  <thead>\n",
       "    <tr style=\"text-align: right;\">\n",
       "      <th></th>\n",
       "      <th>Model</th>\n",
       "      <th>Mrp</th>\n",
       "      <th>Rating</th>\n",
       "      <th>Review</th>\n",
       "      <th>Specs</th>\n",
       "    </tr>\n",
       "  </thead>\n",
       "  <tbody>\n",
       "    <tr>\n",
       "      <th>25464</th>\n",
       "      <td>Kechaoda K28</td>\n",
       "      <td>₹1,480</td>\n",
       "      <td>4.1</td>\n",
       "      <td>2,691 Ratings &amp; 241 Reviews</td>\n",
       "      <td>32 MB RAM | 64 MB ROM | Expandable Upto 16 GB</td>\n",
       "    </tr>\n",
       "    <tr>\n",
       "      <th>18896</th>\n",
       "      <td>SAMSUNG Galaxy A04 (Copper, 128 GB)</td>\n",
       "      <td>₹12,999</td>\n",
       "      <td>NaN</td>\n",
       "      <td>NaN</td>\n",
       "      <td>4 GB RAM | 128 GB ROM | Expandable Upto 1 TB</td>\n",
       "    </tr>\n",
       "    <tr>\n",
       "      <th>3936</th>\n",
       "      <td>SAMSUNG Guru 1200</td>\n",
       "      <td>₹1,655</td>\n",
       "      <td>4.1</td>\n",
       "      <td>7,072 Ratings &amp; 504 Reviews</td>\n",
       "      <td>153 MB RAM | 153 MB ROM</td>\n",
       "    </tr>\n",
       "    <tr>\n",
       "      <th>21340</th>\n",
       "      <td>OPPO K10 (Black Carbon, 128 GB)</td>\n",
       "      <td>₹16,990</td>\n",
       "      <td>4.3</td>\n",
       "      <td>5,053 Ratings &amp; 432 Reviews</td>\n",
       "      <td>8 GB RAM | 128 GB ROM | Expandable Upto 1 TB</td>\n",
       "    </tr>\n",
       "    <tr>\n",
       "      <th>4406</th>\n",
       "      <td>realme 9 Pro+ 5G (Midnight Black, 128 GB)</td>\n",
       "      <td>₹21,499</td>\n",
       "      <td>4.4</td>\n",
       "      <td>30,596 Ratings &amp; 3,739 Reviews</td>\n",
       "      <td>6 GB RAM | 128 GB ROM</td>\n",
       "    </tr>\n",
       "    <tr>\n",
       "      <th>22840</th>\n",
       "      <td>REDMI Note 11S (Polar White, 64 GB)</td>\n",
       "      <td>₹16,499</td>\n",
       "      <td>4.2</td>\n",
       "      <td>2,082 Ratings &amp; 170 Reviews</td>\n",
       "      <td>6 GB RAM | 64 GB ROM</td>\n",
       "    </tr>\n",
       "    <tr>\n",
       "      <th>4016</th>\n",
       "      <td>REDMI K50i (Quick Silver, 128 GB)</td>\n",
       "      <td>₹24,998</td>\n",
       "      <td>4.2</td>\n",
       "      <td>310 Ratings &amp; 26 Reviews</td>\n",
       "      <td>6 GB RAM | 128 GB ROM</td>\n",
       "    </tr>\n",
       "    <tr>\n",
       "      <th>19933</th>\n",
       "      <td>Redmi Note 11 (Space Black, 64 GB)</td>\n",
       "      <td>₹12,990</td>\n",
       "      <td>4.2</td>\n",
       "      <td>9,194 Ratings &amp; 843 Reviews</td>\n",
       "      <td>4 GB RAM | 64 GB ROM</td>\n",
       "    </tr>\n",
       "    <tr>\n",
       "      <th>7800</th>\n",
       "      <td>APPLE iPhone 13 ((PRODUCT)RED, 128 GB)</td>\n",
       "      <td>₹60,999</td>\n",
       "      <td>4.7</td>\n",
       "      <td>1,77,611 Ratings &amp; 9,781 Reviews</td>\n",
       "      <td>128 GB ROM</td>\n",
       "    </tr>\n",
       "    <tr>\n",
       "      <th>5438</th>\n",
       "      <td>realme 9 5G (Meteor Black, 128 GB)</td>\n",
       "      <td>₹16,499</td>\n",
       "      <td>4.4</td>\n",
       "      <td>44,415 Ratings &amp; 2,930 Reviews</td>\n",
       "      <td>6 GB RAM | 128 GB ROM | Expandable Upto 1 TB</td>\n",
       "    </tr>\n",
       "  </tbody>\n",
       "</table>\n",
       "</div>"
      ],
      "text/plain": [
       "                                           Model      Mrp Rating  \\\n",
       "25464                               Kechaoda K28   ₹1,480    4.1   \n",
       "18896        SAMSUNG Galaxy A04 (Copper, 128 GB)  ₹12,999    NaN   \n",
       "3936                           SAMSUNG Guru 1200   ₹1,655    4.1   \n",
       "21340            OPPO K10 (Black Carbon, 128 GB)  ₹16,990    4.3   \n",
       "4406   realme 9 Pro+ 5G (Midnight Black, 128 GB)  ₹21,499    4.4   \n",
       "22840        REDMI Note 11S (Polar White, 64 GB)  ₹16,499    4.2   \n",
       "4016           REDMI K50i (Quick Silver, 128 GB)  ₹24,998    4.2   \n",
       "19933         Redmi Note 11 (Space Black, 64 GB)  ₹12,990    4.2   \n",
       "7800      APPLE iPhone 13 ((PRODUCT)RED, 128 GB)  ₹60,999    4.7   \n",
       "5438          realme 9 5G (Meteor Black, 128 GB)  ₹16,499    4.4   \n",
       "\n",
       "                                 Review  \\\n",
       "25464       2,691 Ratings & 241 Reviews   \n",
       "18896                               NaN   \n",
       "3936        7,072 Ratings & 504 Reviews   \n",
       "21340       5,053 Ratings & 432 Reviews   \n",
       "4406     30,596 Ratings & 3,739 Reviews   \n",
       "22840       2,082 Ratings & 170 Reviews   \n",
       "4016           310 Ratings & 26 Reviews   \n",
       "19933       9,194 Ratings & 843 Reviews   \n",
       "7800   1,77,611 Ratings & 9,781 Reviews   \n",
       "5438     44,415 Ratings & 2,930 Reviews   \n",
       "\n",
       "                                               Specs  \n",
       "25464  32 MB RAM | 64 MB ROM | Expandable Upto 16 GB  \n",
       "18896   4 GB RAM | 128 GB ROM | Expandable Upto 1 TB  \n",
       "3936                         153 MB RAM | 153 MB ROM  \n",
       "21340   8 GB RAM | 128 GB ROM | Expandable Upto 1 TB  \n",
       "4406                           6 GB RAM | 128 GB ROM  \n",
       "22840                           6 GB RAM | 64 GB ROM  \n",
       "4016                           6 GB RAM | 128 GB ROM  \n",
       "19933                           4 GB RAM | 64 GB ROM  \n",
       "7800                                      128 GB ROM  \n",
       "5438    6 GB RAM | 128 GB ROM | Expandable Upto 1 TB  "
      ]
     },
     "execution_count": 27,
     "metadata": {},
     "output_type": "execute_result"
    }
   ],
   "source": [
    "final.sample(10)"
   ]
  },
  {
   "cell_type": "code",
   "execution_count": 28,
   "id": "e28dc5f0",
   "metadata": {},
   "outputs": [],
   "source": [
    "final.to_csv('Mobile_dataSet.csv')"
   ]
  },
  {
   "cell_type": "code",
   "execution_count": 29,
   "id": "2bd7ca27",
   "metadata": {},
   "outputs": [],
   "source": [
    "# web scrapping over flipkart to fetch the mobiles phones data"
   ]
  },
  {
   "cell_type": "code",
   "execution_count": null,
   "id": "0a1aab85",
   "metadata": {},
   "outputs": [],
   "source": []
  }
 ],
 "metadata": {
  "kernelspec": {
   "display_name": "Python 3 (ipykernel)",
   "language": "python",
   "name": "python3"
  },
  "language_info": {
   "codemirror_mode": {
    "name": "ipython",
    "version": 3
   },
   "file_extension": ".py",
   "mimetype": "text/x-python",
   "name": "python",
   "nbconvert_exporter": "python",
   "pygments_lexer": "ipython3",
   "version": "3.9.13"
  }
 },
 "nbformat": 4,
 "nbformat_minor": 5
}
